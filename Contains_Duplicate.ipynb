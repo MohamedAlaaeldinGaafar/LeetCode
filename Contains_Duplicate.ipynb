{
  "metadata": {
    "language_info": {
      "codemirror_mode": {
        "name": "python",
        "version": 3
      },
      "file_extension": ".py",
      "mimetype": "text/x-python",
      "name": "python",
      "nbconvert_exporter": "python",
      "pygments_lexer": "ipython3",
      "version": "3.8"
    },
    "kernelspec": {
      "name": "python",
      "display_name": "Python (Pyodide)",
      "language": "python"
    }
  },
  "nbformat_minor": 4,
  "nbformat": 4,
  "cells": [
    {
      "cell_type": "markdown",
      "source": " # Solution 1:",
      "metadata": {}
    },
    {
      "cell_type": "code",
      "source": "def containsDuplicate(nums) -> bool:\n    bool_ = 0\n    for num, j in zip(nums, range(len(nums))):\n            for i in range(len(nums)):\n                if j != i: \n                    if nums[i] == num :\n                        bool_ = 1\n    return bool_>0",
      "metadata": {
        "trusted": true
      },
      "execution_count": 1,
      "outputs": []
    },
    {
      "cell_type": "code",
      "source": "nums = [1,2,3,4,8,6,65]",
      "metadata": {
        "trusted": true
      },
      "execution_count": 2,
      "outputs": []
    },
    {
      "cell_type": "code",
      "source": "print(containsDuplicate(nums))",
      "metadata": {
        "trusted": true
      },
      "execution_count": 3,
      "outputs": [
        {
          "name": "stdout",
          "text": "False\n",
          "output_type": "stream"
        }
      ]
    },
    {
      "cell_type": "code",
      "source": "nums = [1,2,3,4,8,6,3]",
      "metadata": {
        "trusted": true
      },
      "execution_count": 4,
      "outputs": []
    },
    {
      "cell_type": "code",
      "source": "print(containsDuplicate(nums))",
      "metadata": {
        "trusted": true
      },
      "execution_count": 5,
      "outputs": [
        {
          "name": "stdout",
          "text": "True\n",
          "output_type": "stream"
        }
      ]
    },
    {
      "cell_type": "markdown",
      "source": "**Comment on solution: Time Limit Exceeded**",
      "metadata": {}
    },
    {
      "cell_type": "markdown",
      "source": " # Solution 2:",
      "metadata": {}
    },
    {
      "cell_type": "code",
      "source": "def containsDuplicate(nums) -> bool:\n    bool_ = 0\n    clone_nums = set()\n    for x in nums:\n        if x in clone_nums:\n                bool_ = 1\n        clone_nums.add(x)\n    return bool_>0",
      "metadata": {
        "trusted": true
      },
      "execution_count": 6,
      "outputs": []
    },
    {
      "cell_type": "code",
      "source": "nums = [-24500,-24499,-24498,-24497,-24496,-24495,-24494,-24493,-24492,-24491,-24490,-24489,-24488,-24487,-24486,-24485,-24484,-24483,-24482,-24481,-24480,-24479,-24478,-24477,-24476,-24475,-24474]",
      "metadata": {
        "trusted": true
      },
      "execution_count": 7,
      "outputs": []
    },
    {
      "cell_type": "code",
      "source": "print(containsDuplicate(nums))",
      "metadata": {
        "trusted": true
      },
      "execution_count": 8,
      "outputs": [
        {
          "name": "stdout",
          "text": "False\n",
          "output_type": "stream"
        }
      ]
    },
    {
      "cell_type": "markdown",
      "source": "**Comment on solution: Accepted**",
      "metadata": {}
    },
    {
      "cell_type": "markdown",
      "source": " # Solution 3:",
      "metadata": {}
    },
    {
      "cell_type": "code",
      "source": "class Solution:\n    def containsDuplicate(self, nums) -> bool:\n        nums_set_len = len(set(nums))\n        nums_len = len(nums)\n        return nums_len > nums_set_len",
      "metadata": {
        "trusted": true
      },
      "execution_count": 9,
      "outputs": []
    },
    {
      "cell_type": "code",
      "source": "nums = [-24500,-24499,-24498,-24497,-24496,-24495,-24494,-24493,-24492,-24491,-24490,-24489,-24488,-24487,-24486,-24485,-24484,-24483,-24482,-24481,-24480,-24479,-24478,-24477,-24476,-24475,-24474]",
      "metadata": {
        "trusted": true
      },
      "execution_count": 10,
      "outputs": []
    },
    {
      "cell_type": "code",
      "source": "print(containsDuplicate(nums))",
      "metadata": {
        "trusted": true
      },
      "execution_count": 11,
      "outputs": [
        {
          "name": "stdout",
          "text": "False\n",
          "output_type": "stream"
        }
      ]
    },
    {
      "cell_type": "markdown",
      "source": "**Comment on solution: Accepted**",
      "metadata": {}
    }
  ]
}