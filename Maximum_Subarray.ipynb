{
  "metadata": {
    "language_info": {
      "codemirror_mode": {
        "name": "python",
        "version": 3
      },
      "file_extension": ".py",
      "mimetype": "text/x-python",
      "name": "python",
      "nbconvert_exporter": "python",
      "pygments_lexer": "ipython3",
      "version": "3.8"
    },
    "kernelspec": {
      "name": "python",
      "display_name": "Python (Pyodide)",
      "language": "python"
    }
  },
  "nbformat_minor": 4,
  "nbformat": 4,
  "cells": [
    {
      "cell_type": "code",
      "source": "def maxSubArray(nums) -> int:\n    store = []\n    sums = []\n    max_ = []\n    for i in range(len(nums)):\n        for n in nums:\n            store.append(n)\n            sums.append(sum(store))\n        nums.pop(0)\n        max_.append(max(sums))\n        store.clear()\n        sums.clear()\n\n    return(max(max_))",
      "metadata": {
        "trusted": true
      },
      "execution_count": 1,
      "outputs": []
    },
    {
      "cell_type": "code",
      "source": "nums = [-2,1,-3,4,-1,2,1,-5,4]",
      "metadata": {
        "trusted": true
      },
      "execution_count": 2,
      "outputs": []
    },
    {
      "cell_type": "code",
      "source": "print(maxSubArray(nums))",
      "metadata": {
        "trusted": true
      },
      "execution_count": 3,
      "outputs": [
        {
          "name": "stdout",
          "text": "6\n",
          "output_type": "stream"
        }
      ]
    },
    {
      "cell_type": "code",
      "source": "class Solution:\n    def maxSubArray(self, nums) -> int:\n        max_sum = nums[0]\n        current_sum = 0\n        for n in nums:\n            if current_sum <0:\n                current_sum = 0\n            current_sum += n\n            max_sum = max(current_sum, max_sum)\n        return max_sum",
      "metadata": {
        "trusted": true
      },
      "execution_count": 4,
      "outputs": []
    },
    {
      "cell_type": "code",
      "source": "nums = [-2,1,-3,4,-1,2,1,-5,4]",
      "metadata": {
        "trusted": true
      },
      "execution_count": 5,
      "outputs": []
    },
    {
      "cell_type": "code",
      "source": "print(maxSubArray(nums))",
      "metadata": {
        "trusted": true
      },
      "execution_count": 6,
      "outputs": [
        {
          "name": "stdout",
          "text": "6\n",
          "output_type": "stream"
        }
      ]
    },
    {
      "cell_type": "code",
      "source": "",
      "metadata": {},
      "execution_count": null,
      "outputs": []
    }
  ]
}